{
 "cells": [
  {
   "cell_type": "markdown",
   "metadata": {},
   "source": [
    "#### You may need to install pyamg"
   ]
  },
  {
   "cell_type": "code",
   "execution_count": null,
   "metadata": {},
   "outputs": [],
   "source": [
    "!pip install pyamg"
   ]
  },
  {
   "cell_type": "markdown",
   "metadata": {},
   "source": [
    "## import pyamg, numpy, scipy, and matplotlib"
   ]
  },
  {
   "cell_type": "code",
   "execution_count": null,
   "metadata": {},
   "outputs": [],
   "source": [
    "import pyamg\n",
    "import numpy as np\n",
    "from scipy.io import loadmat\n",
    "import matplotlib.pyplot as plt\n",
    "%matplotlib inline\n",
    "\n",
    "import warnings\n",
    "warnings.simplefilter(action='ignore', category=FutureWarning)"
   ]
  },
  {
   "cell_type": "markdown",
   "metadata": {},
   "source": [
    "### Construct a rotated anisotropic diffusion problem"
   ]
  },
  {
   "cell_type": "code",
   "execution_count": null,
   "metadata": {},
   "outputs": [],
   "source": [
    "n=60\n",
    "sten = pyamg.gallery.diffusion.diffusion_stencil_2d(epsilon=0.0001, theta=np.pi/4, type='FE')\n",
    "A = pyamg.gallery.stencil_grid(sten, (n,n), format='csr')\n",
    "x1d = np.linspace(0, 1, n)\n",
    "X, Y = np.meshgrid(x1d, x1d)"
   ]
  },
  {
   "cell_type": "markdown",
   "metadata": {},
   "source": [
    "### create an AMG hierarchy"
   ]
  },
  {
   "cell_type": "code",
   "execution_count": null,
   "metadata": {},
   "outputs": [],
   "source": [
    "ml = pyamg.ruge_stuben_solver(A, max_coarse=200, keep=True)"
   ]
  },
  {
   "cell_type": "code",
   "execution_count": null,
   "metadata": {},
   "outputs": [],
   "source": [
    "ml"
   ]
  },
  {
   "cell_type": "code",
   "execution_count": null,
   "metadata": {},
   "outputs": [],
   "source": [
    "splitting0 = ml.levels[0].splitting\n",
    "plt.figure(figsize=(8,8))\n",
    "\n",
    "X = X.ravel()\n",
    "Y = Y.ravel()\n",
    "\n",
    "I = np.where(splitting0==0)[0]\n",
    "plt.scatter(X[I], Y[I], color='b', s=8, marker='s', lw=0)\n",
    "\n",
    "I = np.where(splitting0==1)[0]\n",
    "plt.scatter(X[I], Y[I], color='b', s=16, marker='s', lw=0)\n",
    "\n",
    "splitting1 = ml.levels[1].splitting\n",
    "I1 = np.where(splitting1==1)[0]\n",
    "plt.scatter(X[I[I1]], Y[I[I1]], color='r', s=22, marker='s', lw=0)"
   ]
  }
 ],
 "metadata": {
  "kernelspec": {
   "display_name": "Python 3",
   "language": "python",
   "name": "python3"
  },
  "language_info": {
   "codemirror_mode": {
    "name": "ipython",
    "version": 3
   },
   "file_extension": ".py",
   "mimetype": "text/x-python",
   "name": "python",
   "nbconvert_exporter": "python",
   "pygments_lexer": "ipython3",
   "version": "3.7.2"
  }
 },
 "nbformat": 4,
 "nbformat_minor": 1
}
