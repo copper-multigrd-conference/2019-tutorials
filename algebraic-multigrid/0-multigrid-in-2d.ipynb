{
 "cells": [
  {
   "cell_type": "markdown",
   "metadata": {},
   "source": [
    "## Fetch the local files"
   ]
  },
  {
   "cell_type": "code",
   "execution_count": null,
   "metadata": {},
   "outputs": [],
   "source": [
    "!wget -Nq https://raw.githubusercontent.com/copper-multigrid-conference/2019-tutorials/master/algebraic-multigrid/stencil.py\n",
    "!wget -Nq https://raw.githubusercontent.com/copper-multigrid-conference/2019-tutorials/master/algebraic-multigrid/diffusion.py"
   ]
  },
  {
   "cell_type": "markdown",
   "metadata": {},
   "source": [
    "## Import numpy, scipy, matplotlib"
   ]
  },
  {
   "cell_type": "code",
   "execution_count": null,
   "metadata": {},
   "outputs": [],
   "source": [
    "import scipy as sp\n",
    "import numpy as np\n",
    "import scipy.sparse as sparse\n",
    "import scipy.sparse.linalg as sla\n",
    "import matplotlib.pyplot as plt\n",
    "%matplotlib inline\n",
    "\n",
    "import stencil\n",
    "import diffusion\n",
    "\n",
    "import warnings\n",
    "warnings.simplefilter(action='ignore', category=FutureWarning)"
   ]
  },
  {
   "cell_type": "markdown",
   "metadata": {},
   "source": [
    "## Define the h-norm\n",
    "\n",
    "The analog of\n",
    "$$\n",
    "\\int_0^1 r(x) dx\n",
    "$$\n",
    "for discrete vector $r$ is\n",
    "$$\n",
    "\\|r\\|_h = h \\|r\\|_{\\ell_2}\n",
    "$$"
   ]
  },
  {
   "cell_type": "code",
   "execution_count": null,
   "metadata": {},
   "outputs": [],
   "source": [
    "def hnorm(r):\n",
    "    \"\"\"define ||r||_h = h ||r||_2\"\"\"\n",
    "    n = len(r)\n",
    "    h = 1.0 / (n+1)\n",
    "    hrnorm = h * np.linalg.norm(r)\n",
    "    return hrnorm"
   ]
  },
  {
   "cell_type": "markdown",
   "metadata": {},
   "source": [
    "## Define Jacobi relaxation, interpolation"
   ]
  },
  {
   "cell_type": "code",
   "execution_count": null,
   "metadata": {},
   "outputs": [],
   "source": [
    "def relaxJ(A, u, f, nu):\n",
    "    \"\"\"relax nu times on A u = f\n",
    "    \"\"\"\n",
    "    n = A.shape[0]\n",
    "    unew = u.copy()\n",
    "    Dinv = sparse.spdiags(1./A.diagonal(), [0], n, n)\n",
    "    omega = 2.0 / 3.0\n",
    "    \n",
    "    for i in range(nu):\n",
    "        unew += omega * Dinv * (f - A * unew)\n",
    "\n",
    "    return unew\n",
    "\n",
    "\n",
    "def interpolation1d(nc, nf):\n",
    "    \"\"\"linear interpolation\n",
    "    \"\"\"\n",
    "    d = np.repeat([[1, 2, 1]], nc, axis=0).T\n",
    "    I = np.zeros((3,nc), dtype=int)\n",
    "    for i in range(nc):\n",
    "        I[:,i] = [2*i, 2*i+1, 2*i+2]\n",
    "    J = np.repeat([np.arange(nc)], 3, axis=0)\n",
    "    P = sparse.coo_matrix(\n",
    "        (d.ravel(), (I.ravel(), J.ravel()))\n",
    "        ).tocsr()\n",
    "    return 0.5 * P\n",
    "\n",
    "def create_operator(n, sten):\n",
    "    \"\"\"\n",
    "    Create a 2D operator from a stencil.\n",
    "    \"\"\"\n",
    "    A = stencil.stencil_grid(sten, (n, n), format='csr')\n",
    "    return A"
   ]
  },
  {
   "cell_type": "markdown",
   "metadata": {},
   "source": [
    "## A two grid cycle"
   ]
  },
  {
   "cell_type": "code",
   "execution_count": null,
   "metadata": {},
   "outputs": [],
   "source": [
    "def twogrid(A, P, A1, u0, f0, nu):\n",
    "    \n",
    "    # relax and restrict the residual\n",
    "    u0 = relaxJ(A, u0, f0, nu)\n",
    "    f1 = P.T * (f0 - A * u0)\n",
    "\n",
    "    # coarse grid solve\n",
    "    u1 = sla.spsolve(A1, f1)\n",
    "\n",
    "    # interpolate, correct, and relax\n",
    "    u0 = u0 + P * u1\n",
    "    u0 = relaxJ(A, u0, f0, nu)\n",
    "    return u0"
   ]
  },
  {
   "cell_type": "markdown",
   "metadata": {},
   "source": [
    "### Run a two grid cycle\n",
    "$$\n",
    "-u_{xx} - \\epsilon u_{yy} = f\n",
    "$$"
   ]
  },
  {
   "cell_type": "code",
   "execution_count": null,
   "metadata": {},
   "outputs": [],
   "source": [
    "k = 6\n",
    "n = 2**k - 1\n",
    "nc = 2**(k-1) - 1\n",
    "\n",
    "# matrix\n",
    "# eps = 1\n",
    "sten = np.array([[0, -1, 0], [-1, 4, -1], [0, -1, 0]])\n",
    "# eps = 0.001 (and rotate)\n",
    "# sten = diffusion.diffusion_stencil_2d(epsilon=0.001, theta=np.pi/40, type='FD')\n",
    "A = (n+1)**2 * create_operator(n, sten)\n",
    "\n",
    "# interpolation\n",
    "P1d = interpolation1d(nc, n)\n",
    "P = sparse.kron(P1d, P1d).tocsr()\n",
    "\n",
    "# coarse level matrix\n",
    "A1 = P.T * A * P\n",
    "\n",
    "# the problem\n",
    "x1d = np.linspace(0, 1, n+2)[1:-1]\n",
    "X, Y = np.meshgrid(x1d, x1d)\n",
    "ustar = (X**2 - X**4) * (Y**4 - Y**2)\n",
    "f = 2 * ((1-6*X**2) * Y**2 * (1 - Y**2) + (1-6*Y**2) * X**2 * (1-X**2))\n",
    "f = f.ravel()\n",
    "u = np.random.rand(n*n)\n",
    "\n",
    "res = [hnorm(f - A * u)]\n",
    "for i in range(10):\n",
    "    u = twogrid(A, P, A1, u, f, 2)\n",
    "    res.append(hnorm(f - A * u))\n",
    "    \n",
    "res = np.array(res)\n",
    "print(res[1:] / res[:-1])"
   ]
  },
  {
   "cell_type": "code",
   "execution_count": null,
   "metadata": {},
   "outputs": [],
   "source": [
    "u = np.random.rand(n*n)\n",
    "f = np.zeros((n*n,))\n",
    "plt.pcolormesh(u.reshape(n,n))\n",
    "plt.colorbar()\n",
    "u = relaxJ(A, u, f, 4)\n",
    "plt.figure()\n",
    "plt.pcolormesh(u.reshape(n,n))\n",
    "plt.colorbar()"
   ]
  },
  {
   "cell_type": "code",
   "execution_count": null,
   "metadata": {},
   "outputs": [],
   "source": []
  }
 ],
 "metadata": {
  "kernelspec": {
   "display_name": "Python 3",
   "language": "python",
   "name": "python3"
  },
  "language_info": {
   "codemirror_mode": {
    "name": "ipython",
    "version": 3
   },
   "file_extension": ".py",
   "mimetype": "text/x-python",
   "name": "python",
   "nbconvert_exporter": "python",
   "pygments_lexer": "ipython3",
   "version": "3.7.2"
  }
 },
 "nbformat": 4,
 "nbformat_minor": 1
}
