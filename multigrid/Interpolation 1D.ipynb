{
 "cells": [
  {
   "cell_type": "code",
   "execution_count": null,
   "metadata": {},
   "outputs": [],
   "source": [
    "import numpy as np\n",
    "import scipy as sp\n",
    "import scipy.sparse as sparse\n",
    "import scipy.sparse.linalg as sla\n",
    "import matplotlib.pyplot as plt\n",
    "import seaborn as sns\n",
    "sns.set_context(\"talk\", font_scale=1.5, rc={\"lines.linewidth\": 2.5})\n",
    "%matplotlib inline"
   ]
  },
  {
   "cell_type": "code",
   "execution_count": null,
   "metadata": {},
   "outputs": [],
   "source": [
    "n = 64\n",
    "h = 1.0 / n\n",
    "A = sparse.diags([-1, 2, -1], [-1, 0, 1], shape=(n,n), format='csr')\n",
    "b = np.zeros((n,))"
   ]
  },
  {
   "cell_type": "code",
   "execution_count": null,
   "metadata": {},
   "outputs": [],
   "source": [
    "def interpolate(vc):\n",
    "    \"\"\"interpolate v of size 2**(m-1)-1 to 2**(m)-1\"\"\"\n",
    "    nc = len(vc)\n",
    "    nf = 2**(int(np.log2(nc+1))+1)-1\n",
    "    \n",
    "    vf = np.zeros((nf,))\n",
    "    \n",
    "    # 1\n",
    "    vf[2:-1:2] = 0.5 * vc[:-1] + 0.5 * vc[1:]\n",
    "    \n",
    "    # 2\n",
    "    vf[1::2] = vc\n",
    "    \n",
    "    # 3\n",
    "    vf[0] = 0.5 * vc[0]\n",
    "    \n",
    "    # 4\n",
    "    vf[-1] = 0.5 * vc[-1]\n",
    "    \n",
    "    print(nc)\n",
    "    print(nf)\n",
    "    return vf"
   ]
  },
  {
   "cell_type": "code",
   "execution_count": null,
   "metadata": {},
   "outputs": [],
   "source": [
    "m = 4\n",
    "nf = 2**m - 1\n",
    "nc = 2**(m-1) - 1\n",
    "\n",
    "xc = np.linspace(0,1,nc+2)[1:-1]\n",
    "vc = np.sin(np.pi * xc)\n",
    "#vc = np.random.rand(nc)\n",
    "plt.plot(xc, vc, 'bo-', clip_on=False, ms=15)\n",
    "\n",
    "xf = np.linspace(0,1,nf+2)[1:-1]\n",
    "vf = interpolate(vc)\n",
    "plt.plot(xf, vf, 'go-', clip_on=False)"
   ]
  },
  {
   "cell_type": "code",
   "execution_count": null,
   "metadata": {},
   "outputs": [],
   "source": []
  }
 ],
 "metadata": {
  "kernelspec": {
   "display_name": "Python 3",
   "language": "python",
   "name": "python3"
  },
  "language_info": {
   "codemirror_mode": {
    "name": "ipython",
    "version": 3
   },
   "file_extension": ".py",
   "mimetype": "text/x-python",
   "name": "python",
   "nbconvert_exporter": "python",
   "pygments_lexer": "ipython3",
   "version": "3.7.2"
  }
 },
 "nbformat": 4,
 "nbformat_minor": 1
}
