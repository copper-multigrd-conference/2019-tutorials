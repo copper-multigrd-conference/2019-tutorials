{
 "cells": [
  {
   "cell_type": "code",
   "execution_count": null,
   "metadata": {},
   "outputs": [],
   "source": [
    "import scipy as sp\n",
    "import numpy as np\n",
    "import scipy.sparse as sparse\n",
    "import scipy.sparse.linalg as sla\n",
    "import matplotlib.pyplot as plt\n",
    "\n",
    "import seaborn as sns\n",
    "sns.set_context(\"talk\", font_scale=1.5, rc={\"lines.linewidth\": 2.5})\n",
    "%matplotlib inline"
   ]
  },
  {
   "cell_type": "code",
   "execution_count": null,
   "metadata": {},
   "outputs": [],
   "source": [
    "def hnorm(r):\n",
    "    \"\"\"define ||r||_h = h ||r||_2\"\"\"\n",
    "    n = len(r)\n",
    "    h = 1.0 / (n+1)\n",
    "    hrnorm = h * np.linalg.norm(r)\n",
    "    return hrnorm"
   ]
  },
  {
   "cell_type": "code",
   "execution_count": null,
   "metadata": {},
   "outputs": [],
   "source": [
    "def poissonop(n):\n",
    "    A = (n+1)**2 * sparse.diags([-1, 2, -1], [-1, 0, 1], shape=(n,n), format='csr')\n",
    "    return A"
   ]
  },
  {
   "cell_type": "code",
   "execution_count": null,
   "metadata": {},
   "outputs": [],
   "source": [
    "def relax(A, u, f, nu):\n",
    "    n = A.shape[0]\n",
    "    Dinv = 1.0 / (2.0 * (n+1)**2)\n",
    "    omega = 2.0 / 3.0\n",
    "    for steps in range(nu):\n",
    "        u += omega * Dinv * (f - A * u)"
   ]
  },
  {
   "cell_type": "code",
   "execution_count": null,
   "metadata": {},
   "outputs": [],
   "source": [
    "def interpolate(uc):\n",
    "    \"\"\"interpolate u of size 2**(k-1)-1 to 2**(k)-1\"\"\"\n",
    "    nc = len(uc)\n",
    "    nf = 2**(int(np.log2(nc+1))+1)-1\n",
    "    uf = np.zeros((nf,))\n",
    "    I = np.arange(1,nf,2)\n",
    "    uf[I-1] = 0.5 * uc\n",
    "    uf[I] = uc\n",
    "    uf[I+1] += 0.5 * uc\n",
    "    return uf"
   ]
  },
  {
   "cell_type": "code",
   "execution_count": null,
   "metadata": {},
   "outputs": [],
   "source": [
    "def restrict(uf):\n",
    "    \"\"\"restrict u of size 2**(k)-1 to 2**(k-1)-1\"\"\"\n",
    "    nf = len(uf)\n",
    "    nc = 2**(int(np.log2(nf+1))-1)-1\n",
    "    uc = np.zeros((nc,))\n",
    "    I = np.arange(1,nf,2)\n",
    "    uc = 0.25 * uf[I-1] + 0.5 * uf[I] + 0.25 * uf[I+1]\n",
    "    return uc"
   ]
  },
  {
   "cell_type": "code",
   "execution_count": null,
   "metadata": {},
   "outputs": [],
   "source": [
    "k=4\n",
    "nc = 2**(k-1)-1\n",
    "nf = 2**(k)-1\n",
    "xc = np.linspace(0,1,nc+2)[1:-1]\n",
    "xf = np.linspace(0,1,nf+2)[1:-1]\n",
    "\n",
    "uc = np.sin(xc*np.pi)\n",
    "uf = interpolate(uc)\n",
    "\n",
    "plt.plot(xc, uc, 'b-o', clip_on=False, ms=15)\n",
    "plt.plot(xf, uf, 'g--s')\n",
    "plt.axis([0,1,0,1])"
   ]
  },
  {
   "cell_type": "code",
   "execution_count": null,
   "metadata": {},
   "outputs": [],
   "source": [
    "uf = np.sin(xf*np.pi)\n",
    "uc = restrict(uf)\n",
    "\n",
    "plt.plot(xc, uc, 'b-o', ms=15)\n",
    "plt.plot(xf, uf, 'g--s')"
   ]
  },
  {
   "cell_type": "markdown",
   "metadata": {},
   "source": [
    "# Set up the problem"
   ]
  },
  {
   "cell_type": "code",
   "execution_count": null,
   "metadata": {},
   "outputs": [],
   "source": [
    "k = 12\n",
    "n = 2**k - 1\n",
    "print(\"size = %d\" % n)\n",
    "u = np.random.rand(n)\n",
    "xx = np.linspace(0,1,n+2)[1:-1]\n",
    "\n",
    "#f = np.random.rand(n)#np.pi**2 * np.sin(np.pi*xx)\n",
    "A = poissonop(n)\n",
    "f = A * np.random.rand(n)\n",
    "ustar = sla.spsolve(A, f) \n",
    "\n",
    "plt.plot(xx, ustar)\n",
    "plt.xlabel(r'$x$')\n",
    "plt.ylabel(r'$u(x)$')"
   ]
  },
  {
   "cell_type": "markdown",
   "metadata": {},
   "source": [
    "# Try one cycle:\n",
    "\n",
    "* smooth\n",
    "* restrict\n",
    "* solve `Ac`\n",
    "* interpolate\n",
    "* correct"
   ]
  },
  {
   "cell_type": "code",
   "execution_count": null,
   "metadata": {},
   "outputs": [],
   "source": [
    "print('starting residual: ', hnorm(f - A * u))\n",
    "relax(A, u, f, 1)\n",
    "rc = restrict(f - A * u)\n",
    "Ac = poissonop(len(rc))\n",
    "ec = sparse.linalg.spsolve(Ac, rc)\n",
    "ef = interpolate(ec)\n",
    "u = u + ef\n",
    "relax(A, u, f, 1)\n",
    "print('  ending residual: ', hnorm(f - A * u))\n",
    "plt.plot(xx, u-ustar)\n",
    "plt.xlabel(r'$x$')\n",
    "plt.ylabel(r'$u(x)$')"
   ]
  },
  {
   "cell_type": "markdown",
   "metadata": {},
   "source": [
    "# Multiple Cycles"
   ]
  },
  {
   "cell_type": "code",
   "execution_count": null,
   "metadata": {},
   "outputs": [],
   "source": [
    "u = np.random.rand(n)\n",
    "\n",
    "res = [hnorm(f - A * u)]\n",
    "\n",
    "print(\"res[0] = %g\"%res[-1])\n",
    "for cycle in range(10):\n",
    "    relax(A, u, f, 10)\n",
    "    rc = restrict(f - A * u)\n",
    "    ec = sparse.linalg.spsolve(poissonop(len(rc)), rc)\n",
    "    ef = interpolate(ec)\n",
    "    u = u + ef\n",
    "    relax(A, u, f, 10)\n",
    "    res.append(hnorm(f - A * u))\n",
    "    print(\"res[%d] = %g\"%(cycle+1,res[-1]))"
   ]
  },
  {
   "cell_type": "code",
   "execution_count": null,
   "metadata": {},
   "outputs": [],
   "source": [
    "res = np.array(res)\n",
    "res[1:]/res[:-1]"
   ]
  },
  {
   "cell_type": "code",
   "execution_count": null,
   "metadata": {},
   "outputs": [],
   "source": [
    "plt.semilogy(res)"
   ]
  },
  {
   "cell_type": "code",
   "execution_count": null,
   "metadata": {},
   "outputs": [],
   "source": []
  }
 ],
 "metadata": {
  "kernelspec": {
   "display_name": "Python 3",
   "language": "python",
   "name": "python3"
  },
  "language_info": {
   "codemirror_mode": {
    "name": "ipython",
    "version": 3
   },
   "file_extension": ".py",
   "mimetype": "text/x-python",
   "name": "python",
   "nbconvert_exporter": "python",
   "pygments_lexer": "ipython3",
   "version": "3.7.2"
  }
 },
 "nbformat": 4,
 "nbformat_minor": 1
}
