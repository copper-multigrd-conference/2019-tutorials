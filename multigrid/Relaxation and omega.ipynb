{
 "cells": [
  {
   "cell_type": "code",
   "execution_count": null,
   "metadata": {},
   "outputs": [],
   "source": [
    "import numpy as np\n",
    "import scipy as sp\n",
    "import scipy.sparse as sparse\n",
    "import scipy.sparse.linalg as sla\n",
    "import matplotlib.pyplot as plt\n",
    "%matplotlib inline"
   ]
  },
  {
   "cell_type": "code",
   "execution_count": null,
   "metadata": {},
   "outputs": [],
   "source": [
    "n = 64\n",
    "h = 1.0 / n\n",
    "A = sparse.diags([-1, 2, -1], [-1, 0, 1], shape=(n,n), format='csr')\n",
    "b = np.zeros((n,))"
   ]
  },
  {
   "cell_type": "code",
   "execution_count": null,
   "metadata": {},
   "outputs": [],
   "source": [
    "plt.figure(figsize=(6,6))\n",
    "\n",
    "K = np.arange(1,n)\n",
    "\n",
    "omega = 1.0 /2\n",
    "lmbda = 1 - (omega / 2) * 4.0 * np.sin(np.pi * K / (2*(n+1)))**2\n",
    "plt.plot(lmbda,'-k',label='residual',linewidth=4, clip_on=False)\n",
    "plt.text(n+2, lmbda[-1], r'$\\omega=1/2$', fontsize=24)\n",
    "\n",
    "omega = 1.0 / 3.0\n",
    "lmbda = 1 - (omega / 2) * 4.0 * np.sin(np.pi * K / (2*(n+1)))**2\n",
    "plt.plot(lmbda,'-k',label='residual',linewidth=4, clip_on=False)\n",
    "plt.text(n+2, lmbda[-1], r'$\\omega=1/3$', fontsize=24)\n",
    "\n",
    "omega = 2.0 / 3.0\n",
    "lmbda = 1 - (omega / 2) * 4.0 * np.sin(np.pi * K / (2*(n+1)))**2\n",
    "plt.plot(lmbda,'-k',label='residual',linewidth=4, clip_on=False)\n",
    "plt.text(n+2, lmbda[-1], r'$\\omega=2/3$', fontsize=24)\n",
    "\n",
    "omega = 1\n",
    "lmbda = 1 - (omega / 2) * 4.0 * np.sin(np.pi * K/ (2*(n+1)))**2\n",
    "plt.plot(lmbda,'-k',label='residual',linewidth=4, clip_on=False)\n",
    "plt.text(n+2, lmbda[-1], r'$\\omega=1$', fontsize=24)\n",
    "\n",
    "####### fancy plotting vvvvvvvvvv\n",
    "ax = plt.gca()\n",
    "ax.plot([0, n], [0, 0], '--b')\n",
    "plt.axis([0,n,-1,1])\n",
    "plt.ylabel(r'$\\lambda^{\\omega_J}_k$', fontsize=32)\n",
    "plt.xlabel(r'wave number, $k$', fontsize=32)\n",
    "ax.spines[\"right\"].set_visible(False)\n",
    "ax.spines[\"top\"].set_visible(False)\n",
    "ax.get_xaxis().tick_bottom()   # remove unneeded ticks \n",
    "ax.get_yaxis().tick_left()"
   ]
  },
  {
   "cell_type": "code",
   "execution_count": null,
   "metadata": {},
   "outputs": [],
   "source": []
  },
  {
   "cell_type": "code",
   "execution_count": null,
   "metadata": {},
   "outputs": [],
   "source": []
  },
  {
   "cell_type": "code",
   "execution_count": null,
   "metadata": {},
   "outputs": [],
   "source": []
  },
  {
   "cell_type": "code",
   "execution_count": null,
   "metadata": {},
   "outputs": [],
   "source": []
  },
  {
   "cell_type": "code",
   "execution_count": null,
   "metadata": {},
   "outputs": [],
   "source": []
  }
 ],
 "metadata": {
  "kernelspec": {
   "display_name": "Python 3",
   "language": "python",
   "name": "python3"
  },
  "language_info": {
   "codemirror_mode": {
    "name": "ipython",
    "version": 3
   },
   "file_extension": ".py",
   "mimetype": "text/x-python",
   "name": "python",
   "nbconvert_exporter": "python",
   "pygments_lexer": "ipython3",
   "version": "3.7.2"
  }
 },
 "nbformat": 4,
 "nbformat_minor": 1
}
