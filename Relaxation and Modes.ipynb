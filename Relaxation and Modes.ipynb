{
 "cells": [
  {
   "cell_type": "code",
   "execution_count": null,
   "metadata": {},
   "outputs": [],
   "source": [
    "import numpy as np\n",
    "import scipy as sp\n",
    "import scipy.sparse as sparse\n",
    "import scipy.sparse.linalg as sla\n",
    "import matplotlib.pyplot as plt\n",
    "%matplotlib inline"
   ]
  },
  {
   "cell_type": "code",
   "execution_count": null,
   "metadata": {},
   "outputs": [],
   "source": [
    "n = 64\n",
    "A = sparse.diags([-1, 2, -1], [-1, 0, 1], shape=(n,n), format='csr')\n",
    "b = np.zeros((n,))"
   ]
  },
  {
   "cell_type": "code",
   "execution_count": null,
   "metadata": {},
   "outputs": [],
   "source": [
    "I = sparse.eye(n, format='csr')\n",
    "Dinv = 0.5 * I\n",
    "D = 2 * I\n",
    "E = -sparse.tril(A, -1)"
   ]
  },
  {
   "cell_type": "code",
   "execution_count": null,
   "metadata": {},
   "outputs": [],
   "source": [
    "rnorm = []\n",
    "\n",
    "test = 'random'\n",
    "if test == 'random':\n",
    "    u = np.random.rand(n)\n",
    "elif test == 'smooth':\n",
    "    n = A.shape[0]\n",
    "    u = np.sin(np.pi * np.arange(1, n+1)/ (n+1))\n",
    "    \n",
    "uinit = u.copy()\n",
    "\n",
    "for i in range(100):\n",
    "    u[:] = u - Dinv * A * u\n",
    "    #u[:] = u - sla.(D-E, A*u)\n",
    "    rnorm.append(np.linalg.norm(A * u))"
   ]
  },
  {
   "cell_type": "code",
   "execution_count": null,
   "metadata": {},
   "outputs": [],
   "source": [
    "plt.figure(figsize=(8,8))\n",
    "plt.plot(uinit, 'b-', lw=3, clip_on=False)\n",
    "plt.plot(u, 'r-', lw=3, clip_on=False)"
   ]
  },
  {
   "cell_type": "markdown",
   "metadata": {},
   "source": [
    "# Try specific $\\omega$-Jacobi"
   ]
  },
  {
   "cell_type": "code",
   "execution_count": null,
   "metadata": {},
   "outputs": [],
   "source": [
    "omega = 2.0 / 3.0\n",
    "rnorm = []\n",
    "\n",
    "test = 'random'\n",
    "if test == 'random':\n",
    "    u = np.random.rand(n)\n",
    "elif test == 'smooth':\n",
    "    n = A.shape[0]\n",
    "    u = np.sin(np.pi * np.arange(1, n+1)/ (n+1))\n",
    "    \n",
    "uinit = u.copy()\n",
    "\n",
    "for i in range(100):\n",
    "    u[:] = u - omega * Dinv * A * u\n",
    "    #u[:] = u - sla.(D-E, A*u)\n",
    "    rnorm.append(np.linalg.norm(A * u))"
   ]
  },
  {
   "cell_type": "code",
   "execution_count": null,
   "metadata": {},
   "outputs": [],
   "source": [
    "plt.figure(figsize=(10,10))\n",
    "plt.plot(uinit, 'b-', lw=3, clip_on=False)\n",
    "plt.plot(u, 'r-', lw=3, clip_on=False)"
   ]
  },
  {
   "cell_type": "markdown",
   "metadata": {},
   "source": [
    "# Try different \"modes\""
   ]
  },
  {
   "cell_type": "code",
   "execution_count": null,
   "metadata": {},
   "outputs": [],
   "source": [
    "omega = 2.0 / 3.0\n",
    "\n",
    "rnorm1 = []\n",
    "rnorm3 = []\n",
    "rnorm6 = []\n",
    "\n",
    "u1 = np.sin(np.pi * np.arange(1, n+1)/ (n+1))\n",
    "u3 = np.sin(3 * np.pi * np.arange(1, n+1)/ (n+1))\n",
    "u6 = np.sin(6 * np.pi * np.arange(1, n+1)/ (n+1))\n",
    "    \n",
    "for i in range(100):\n",
    "    u = u1\n",
    "    u[:] = u - omega * Dinv * A * u\n",
    "    rnorm1.append(np.linalg.norm(A * u))\n",
    "    \n",
    "    u = u3\n",
    "    u[:] = u - omega * Dinv * A * u\n",
    "    rnorm3.append(np.linalg.norm(A * u))\n",
    "    \n",
    "    u = u6\n",
    "    u[:] = u - omega * Dinv * A * u\n",
    "    rnorm6.append(np.linalg.norm(A * u))"
   ]
  },
  {
   "cell_type": "code",
   "execution_count": null,
   "metadata": {},
   "outputs": [],
   "source": [
    "u1 = np.sin(np.pi * np.arange(1, n+1)/ (n+1))\n",
    "u3 = np.sin(3 * np.pi * np.arange(1, n+1)/ (n+1))\n",
    "u56 = np.sin(56 * np.pi * np.arange(1, n+1)/ (n+1))\n",
    "plt.figure(figsize=(6,6))\n",
    "plt.plot(u1, '-o', lw=3)\n",
    "plt.plot(u3,  '-o',lw=3)\n",
    "plt.plot(u56, '-o', lw=3)"
   ]
  },
  {
   "cell_type": "code",
   "execution_count": null,
   "metadata": {},
   "outputs": [],
   "source": [
    "plt.figure(figsize=(6,6))\n",
    "for rnorm, label in zip([rnorm1, rnorm3, rnorm6], ['k=1', 'k=3', 'k=6']):\n",
    "    rnorm = np.array(rnorm) / rnorm[0]\n",
    "    plt.plot(rnorm, lw=3, label=label)\n",
    "plt.xlabel('iterations')\n",
    "plt.ylabel('residual')\n",
    "plt.legend()"
   ]
  },
  {
   "cell_type": "markdown",
   "metadata": {},
   "source": [
    "# Test many \"modes\""
   ]
  },
  {
   "cell_type": "code",
   "execution_count": null,
   "metadata": {},
   "outputs": [],
   "source": [
    "omega = 3.0 / 3.0\n",
    "\n",
    "rnorm = []\n",
    "u1 = np.sin(np.pi * np.arange(1, n+1)/ (n+1))\n",
    "u6 = np.sin(2 * np.pi * np.arange(1, n+1)/ (n+1))\n",
    "u32 = np.sin(3 * np.pi * np.arange(1, n+1)/ (n+1))\n",
    "u = (u1 + u6 + u32) / 3.0\n",
    "\n",
    "for i in range(100):\n",
    "    u[:] = u - omega * Dinv * A * u\n",
    "    rnorm.append(np.linalg.norm(A * u))"
   ]
  },
  {
   "cell_type": "code",
   "execution_count": null,
   "metadata": {},
   "outputs": [],
   "source": [
    "plt.plot((u1 + u6 + u32) / 3.0)"
   ]
  },
  {
   "cell_type": "code",
   "execution_count": null,
   "metadata": {},
   "outputs": [],
   "source": [
    "plt.figure(figsize=(6,6))\n",
    "rnorm = np.array(rnorm) / rnorm[0]\n",
    "plt.plot(rnorm, lw=3)"
   ]
  },
  {
   "cell_type": "code",
   "execution_count": null,
   "metadata": {},
   "outputs": [],
   "source": [
    "K = np.arange(1,101)\n",
    "lmbda = 1 - (4.0/3.0) * np.sin(np.pi * K/ (2*100))**2\n",
    "\n",
    "fig = plt.figure(figsize=(6,6))\n",
    "ax = fig.add_subplot(111)\n",
    "ax.plot(lmbda,'-k',label='residual',linewidth=4,clip_on=False)\n",
    "\n",
    "plt.axis('auto')\n",
    "plt.ylabel(r'$|\\lambda^{\\omega J}_k|$')\n",
    "plt.xlabel(r'wave number, $k$')\n",
    "ax.spines[\"right\"].set_visible(False)\n",
    "ax.spines[\"top\"].set_visible(False)\n",
    "ax.get_xaxis().tick_bottom()   # remove unneeded ticks \n",
    "ax.get_yaxis().tick_left()"
   ]
  },
  {
   "cell_type": "code",
   "execution_count": null,
   "metadata": {},
   "outputs": [],
   "source": []
  },
  {
   "cell_type": "code",
   "execution_count": null,
   "metadata": {},
   "outputs": [],
   "source": []
  },
  {
   "cell_type": "code",
   "execution_count": null,
   "metadata": {},
   "outputs": [],
   "source": []
  },
  {
   "cell_type": "code",
   "execution_count": null,
   "metadata": {},
   "outputs": [],
   "source": []
  },
  {
   "cell_type": "code",
   "execution_count": null,
   "metadata": {},
   "outputs": [],
   "source": []
  }
 ],
 "metadata": {
  "kernelspec": {
   "display_name": "Python 3",
   "language": "python",
   "name": "python3"
  },
  "language_info": {
   "codemirror_mode": {
    "name": "ipython",
    "version": 3
   },
   "file_extension": ".py",
   "mimetype": "text/x-python",
   "name": "python",
   "nbconvert_exporter": "python",
   "pygments_lexer": "ipython3",
   "version": "3.7.2"
  }
 },
 "nbformat": 4,
 "nbformat_minor": 1
}
