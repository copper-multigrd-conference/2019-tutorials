{
 "cells": [
  {
   "cell_type": "code",
   "execution_count": null,
   "metadata": {},
   "outputs": [],
   "source": [
    "import matplotlib.pyplot as plt\n",
    "import numpy as np\n",
    "%matplotlib inline"
   ]
  },
  {
   "cell_type": "code",
   "execution_count": null,
   "metadata": {},
   "outputs": [],
   "source": [
    "e = np.array([0, 0.1, 1.0, 0.1, 0])\n",
    "plt.plot(e, '-bo', ms=10, lw=4, clip_on=False)\n",
    "plt.gca().set_ylim([0,1])\n",
    "plt.axis('off')"
   ]
  },
  {
   "cell_type": "code",
   "execution_count": null,
   "metadata": {},
   "outputs": [],
   "source": [
    "eold = e.copy()\n",
    "e[2] = 0.5 * (e[1] + e[3])\n",
    "plt.plot(eold, '-bo', ms=10, lw=4, clip_on=False)\n",
    "plt.plot(e, '-rx', ms=10, lw=4, clip_on=False)\n",
    "plt.gca().set_ylim([0,1])\n",
    "plt.axis('off')"
   ]
  },
  {
   "cell_type": "code",
   "execution_count": null,
   "metadata": {},
   "outputs": [],
   "source": [
    "e = np.array([0, 0.1, 0.15, 0.1, 0])\n",
    "plt.plot(e, '-bo', ms=10, lw=4, clip_on=False)\n",
    "plt.gca().set_ylim([0,1])\n",
    "plt.axis('off')"
   ]
  },
  {
   "cell_type": "code",
   "execution_count": null,
   "metadata": {},
   "outputs": [],
   "source": [
    "eold = e.copy()\n",
    "e[2] = 0.5 * (e[1] + e[3])\n",
    "plt.plot(eold, '-bo', ms=10, lw=4, clip_on=False)\n",
    "plt.plot(e, '-rx', ms=10, lw=4, clip_on=False)\n",
    "plt.gca().set_ylim([0,1])\n",
    "plt.axis('off')"
   ]
  },
  {
   "cell_type": "code",
   "execution_count": null,
   "metadata": {},
   "outputs": [],
   "source": [
    "e = np.array([-1, 1, -1, 1, -1, 1])\n",
    "plt.plot(e, '-bo', ms=10, lw=4, clip_on=False)\n",
    "plt.gca().set_ylim([-1,1])\n",
    "plt.axis('off')"
   ]
  },
  {
   "cell_type": "code",
   "execution_count": null,
   "metadata": {},
   "outputs": [],
   "source": [
    "eold = e.copy()\n",
    "\n",
    "e[0] = 0.5 * (eold[-1] + eold[1])\n",
    "e[1] = 0.5 * (eold[0] + eold[2])\n",
    "e[2] = 0.5 * (eold[1] + eold[3])\n",
    "e[3] = 0.5 * (eold[2] + eold[4])\n",
    "e[4] = 0.5 * (eold[3] + eold[5])\n",
    "e[5] = 0.5 * (eold[4] + eold[0])\n",
    "\n",
    "plt.plot(eold, '-bo', ms=10, lw=4, clip_on=False)\n",
    "plt.plot(e, '-rx', ms=10, lw=4, clip_on=False)\n",
    "plt.gca().set_ylim([-1,1])\n",
    "plt.axis('off')"
   ]
  },
  {
   "cell_type": "code",
   "execution_count": null,
   "metadata": {},
   "outputs": [],
   "source": []
  },
  {
   "cell_type": "code",
   "execution_count": null,
   "metadata": {},
   "outputs": [],
   "source": []
  },
  {
   "cell_type": "code",
   "execution_count": null,
   "metadata": {},
   "outputs": [],
   "source": []
  },
  {
   "cell_type": "code",
   "execution_count": null,
   "metadata": {},
   "outputs": [],
   "source": []
  },
  {
   "cell_type": "code",
   "execution_count": null,
   "metadata": {},
   "outputs": [],
   "source": []
  }
 ],
 "metadata": {
  "kernelspec": {
   "display_name": "Python 3",
   "language": "python",
   "name": "python3"
  },
  "language_info": {
   "codemirror_mode": {
    "name": "ipython",
    "version": 3
   },
   "file_extension": ".py",
   "mimetype": "text/x-python",
   "name": "python",
   "nbconvert_exporter": "python",
   "pygments_lexer": "ipython3",
   "version": "3.7.2"
  }
 },
 "nbformat": 4,
 "nbformat_minor": 1
}
