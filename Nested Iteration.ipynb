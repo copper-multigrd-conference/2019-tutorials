{
 "cells": [
  {
   "cell_type": "code",
   "execution_count": null,
   "metadata": {},
   "outputs": [],
   "source": [
    "import numpy as np\n",
    "import scipy as sp\n",
    "import scipy.sparse as sparse\n",
    "import scipy.sparse.linalg as sla\n",
    "import matplotlib.pyplot as plt\n",
    "import seaborn as sns\n",
    "sns.set_context(\"talk\", font_scale=1.5, rc={\"lines.linewidth\": 2.5})\n",
    "%matplotlib inline"
   ]
  },
  {
   "cell_type": "code",
   "execution_count": null,
   "metadata": {},
   "outputs": [],
   "source": [
    "n = 2**7 - 1\n",
    "h = 1.0 / n\n",
    "A = sparse.diags([-1, 2, -1], [-1, 0, 1], shape=(n,n), format='csr')\n",
    "b = np.zeros((n,))\n",
    "I = sparse.eye(n, format='csr')\n",
    "Dinv = 0.5 * I\n",
    "D = 2 * I"
   ]
  },
  {
   "cell_type": "code",
   "execution_count": null,
   "metadata": {},
   "outputs": [],
   "source": [
    "def interpolate(vc):\n",
    "    \"\"\"interpolate v of size 2**(m-1)-1 to 2**(m)-1\"\"\"\n",
    "    nc = len(vc)\n",
    "    nf = 2**(int(np.log2(nc+1))+1)-1\n",
    "    vf = np.zeros((nf,))\n",
    "    \n",
    "    vf[2:-1:2] = 0.5 * vc[:-1] + 0.5 * vc[1:]\n",
    "    vf[1::2] = vc\n",
    "    vf[0] = 0.5 * vc[0]\n",
    "    vf[-1] = 0.5 * vc[-1]\n",
    "    return vf"
   ]
  },
  {
   "cell_type": "code",
   "execution_count": null,
   "metadata": {},
   "outputs": [],
   "source": [
    "omega = 2.0/3.0\n",
    "rnorm = []\n",
    "x = np.random.rand(n)\n",
    "for i in range(20000):\n",
    "    x[:] = x - omega * Dinv * A * x\n",
    "    #x[:] = x - sla.spsolve(D-E, A*x)\n",
    "    rnorm.append(np.linalg.norm(A * x))"
   ]
  },
  {
   "cell_type": "code",
   "execution_count": null,
   "metadata": {},
   "outputs": [],
   "source": [
    "plt.semilogy(rnorm)"
   ]
  },
  {
   "cell_type": "code",
   "execution_count": null,
   "metadata": {},
   "outputs": [],
   "source": [
    "minm = 2\n",
    "x = np.random.rand(2**minm - 1)\n",
    "\n",
    "for m in range(minm,7):\n",
    "    nc = 2**m - 1\n",
    "    print(\"size: {}\".format(nc))\n",
    "    \n",
    "    # set up the problem\n",
    "    hc = 1.0 / nc\n",
    "    Ac = sparse.diags([-1, 2, -1], [-1, 0, 1], shape=(nc,nc), format='csr')\n",
    "    bc = np.zeros((nc,))\n",
    "    Ic = sparse.eye(nc, format='csr')\n",
    "    Dcinv = 0.5 * Ic\n",
    "    Dc = 2 * Ic\n",
    "\n",
    "    x[:] = x - omega * Dcinv * Ac * x\n",
    "    \n",
    "    x = interpolate(x)"
   ]
  },
  {
   "cell_type": "code",
   "execution_count": null,
   "metadata": {},
   "outputs": [],
   "source": [
    "rnorm_orig = rnorm.copy()\n",
    "omega = 2.0/3.0\n",
    "rnorm = []\n",
    "for i in range(20000):\n",
    "    x[:] = x - omega * Dinv * A * x\n",
    "    #x[:] = x - sla.spsolve(D-E, A*x)\n",
    "    rnorm.append(np.linalg.norm(A * x))"
   ]
  },
  {
   "cell_type": "code",
   "execution_count": null,
   "metadata": {},
   "outputs": [],
   "source": [
    "plt.semilogy(rnorm_orig, label='relaxation')\n",
    "plt.semilogy(rnorm, label='nested relaxation')\n",
    "plt.legend()"
   ]
  },
  {
   "cell_type": "code",
   "execution_count": null,
   "metadata": {},
   "outputs": [],
   "source": []
  }
 ],
 "metadata": {
  "kernelspec": {
   "display_name": "Python 3",
   "language": "python",
   "name": "python3"
  },
  "language_info": {
   "codemirror_mode": {
    "name": "ipython",
    "version": 3
   },
   "file_extension": ".py",
   "mimetype": "text/x-python",
   "name": "python",
   "nbconvert_exporter": "python",
   "pygments_lexer": "ipython3",
   "version": "3.7.2"
  }
 },
 "nbformat": 4,
 "nbformat_minor": 2
}
