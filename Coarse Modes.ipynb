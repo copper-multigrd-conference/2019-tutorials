{
 "cells": [
  {
   "cell_type": "code",
   "execution_count": null,
   "metadata": {},
   "outputs": [],
   "source": [
    "import numpy as np\n",
    "import scipy as sp\n",
    "import scipy.sparse as sparse\n",
    "import scipy.sparse.linalg as sla\n",
    "import matplotlib.pyplot as plt\n",
    "import seaborn as sns\n",
    "sns.set_context(\"talk\", font_scale=1.5, rc={\"lines.linewidth\": 2.5})\n",
    "%matplotlib inline"
   ]
  },
  {
   "cell_type": "code",
   "execution_count": null,
   "metadata": {},
   "outputs": [],
   "source": [
    "m = 4\n",
    "k = 4\n",
    "\n",
    "nf = 2**m + 1\n",
    "xf = np.linspace(0,1,nf)\n",
    "yf = sp.sin(k * np.pi * xf)\n",
    "\n",
    "nc = 2**(m-1) + 1\n",
    "xc = np.linspace(0,1,nc)\n",
    "yc = sp.sin(k * np.pi * xc)"
   ]
  },
  {
   "cell_type": "code",
   "execution_count": null,
   "metadata": {},
   "outputs": [],
   "source": [
    "plt.plot(xc, 0*xc, 'gs', ms=15, label='coarse')\n",
    "plt.plot(xf, 0*xf, 'bo', label='fine')\n",
    "plt.legend()"
   ]
  },
  {
   "cell_type": "code",
   "execution_count": null,
   "metadata": {},
   "outputs": [],
   "source": [
    "print(nc)\n",
    "print(nf)\n",
    "plt.plot(xc, yc, 'g-s', lw=3, clip_on=False, label='coarse')\n",
    "plt.plot(xf, yf, 'b-o', lw=3, clip_on=False, label='fine')\n",
    "plt.legend()"
   ]
  },
  {
   "cell_type": "code",
   "execution_count": null,
   "metadata": {},
   "outputs": [],
   "source": []
  }
 ],
 "metadata": {
  "kernelspec": {
   "display_name": "Python 3",
   "language": "python",
   "name": "python3"
  },
  "language_info": {
   "codemirror_mode": {
    "name": "ipython",
    "version": 3
   },
   "file_extension": ".py",
   "mimetype": "text/x-python",
   "name": "python",
   "nbconvert_exporter": "python",
   "pygments_lexer": "ipython3",
   "version": "3.7.2"
  }
 },
 "nbformat": 4,
 "nbformat_minor": 1
}
